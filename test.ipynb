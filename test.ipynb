{
 "cells": [
  {
   "cell_type": "markdown",
   "metadata": {},
   "source": [
    "#  хөрөнгийн зах зээлийн  үзүүлэлтүүд\n",
    "\n",
    "## Энэ таамгалахад хүнд үү ?\n",
    "\n",
    "Дата авсан:   \n",
    "https://www.ncbi.nlm.nih.gov/pmc/articles/PMC5219605/\n",
    "\n",
    "Дээрх хувьцааны мэдээлэлд үндэслэн урьдчилж тооцоолсон техникийн үзүүлэлтүүдээр дараахь зүйлийг судалж үзэхийг хүсч байна:\n",
    "1. Өдрийн арилжаа хийхэд ашигтай байж болох үзүүлэлтүүдийг тодорхойл\n",
    "2. Урьдчилан таамаглахад үнэхээр хэцүү байна уу? Дүрслэлээр дэмжигдсэн.\n",
    "3. 3 аргыг ашиглан таамаглалын нарийвчлал: SVM ангилагч, PCA-тай SVM ангилагч, мэдрэлийн сүлжээ ангилагч."
   ]
  },
  {
   "cell_type": "code",
   "execution_count": 1,
   "metadata": {},
   "outputs": [],
   "source": [
    "import pandas as pd\n",
    "import numpy as np\n",
    "import matplotlib.pyplot as plt\n",
    "\n",
    "from sklearn.model_selection import train_test_split, RandomizedSearchCV\n",
    "from sklearn.decomposition import PCA\n",
    "from sklearn.svm import SVC\n",
    "from sklearn.metrics import accuracy_score, precision_score, recall_score, f1_score, confusion_matrix\n",
    "from sklearn.preprocessing import MinMaxScaler"
   ]
  },
  {
   "cell_type": "code",
   "execution_count": 2,
   "metadata": {},
   "outputs": [
    {
     "data": {
      "text/plain": [
       "(1723, 35)"
      ]
     },
     "execution_count": 2,
     "metadata": {},
     "output_type": "execute_result"
    }
   ],
   "source": [
    "df_raw = pd.read_csv('S&P500.csv', delimiter=';')\n",
    "df_raw.shape"
   ]
  },
  {
   "cell_type": "markdown",
   "metadata": {},
   "source": [
    "# CRISP-DM: Бизинесс өгөгдөл ойлгох"
   ]
  },
  {
   "cell_type": "code",
   "execution_count": 3,
   "metadata": {},
   "outputs": [
    {
     "data": {
      "text/html": [
       "<div>\n",
       "<style scoped>\n",
       "    .dataframe tbody tr th:only-of-type {\n",
       "        vertical-align: middle;\n",
       "    }\n",
       "\n",
       "    .dataframe tbody tr th {\n",
       "        vertical-align: top;\n",
       "    }\n",
       "\n",
       "    .dataframe thead th {\n",
       "        text-align: right;\n",
       "    }\n",
       "</style>\n",
       "<table border=\"1\" class=\"dataframe\">\n",
       "  <thead>\n",
       "    <tr style=\"text-align: right;\">\n",
       "      <th></th>\n",
       "      <th>Class</th>\n",
       "      <th>Date</th>\n",
       "      <th>Opening Price</th>\n",
       "      <th>Closing Price</th>\n",
       "      <th>Maximum</th>\n",
       "      <th>Minimum</th>\n",
       "      <th>Var. %</th>\n",
       "      <th>Return</th>\n",
       "      <th>MOMENTUM5</th>\n",
       "      <th>EMA12</th>\n",
       "      <th>...</th>\n",
       "      <th>CCI</th>\n",
       "      <th>ATR</th>\n",
       "      <th>UO</th>\n",
       "      <th>Unnamed: 28</th>\n",
       "      <th>Unnamed: 29</th>\n",
       "      <th>Unnamed: 30</th>\n",
       "      <th>Unnamed: 31</th>\n",
       "      <th>Unnamed: 32</th>\n",
       "      <th>Unnamed: 33</th>\n",
       "      <th>Unnamed: 34</th>\n",
       "    </tr>\n",
       "  </thead>\n",
       "  <tbody>\n",
       "    <tr>\n",
       "      <td>0</td>\n",
       "      <td>0</td>\n",
       "      <td>20100420.0</td>\n",
       "      <td>1195.75</td>\n",
       "      <td>1205.50</td>\n",
       "      <td>1205.75</td>\n",
       "      <td>1194.00</td>\n",
       "      <td>0.0084</td>\n",
       "      <td>N</td>\n",
       "      <td>N</td>\n",
       "      <td>N</td>\n",
       "      <td>...</td>\n",
       "      <td>N</td>\n",
       "      <td>N</td>\n",
       "      <td>N</td>\n",
       "      <td>NaN</td>\n",
       "      <td>NaN</td>\n",
       "      <td>NaN</td>\n",
       "      <td>NaN</td>\n",
       "      <td>NaN</td>\n",
       "      <td>NaN</td>\n",
       "      <td>NaN</td>\n",
       "    </tr>\n",
       "    <tr>\n",
       "      <td>1</td>\n",
       "      <td>0</td>\n",
       "      <td>20100421.0</td>\n",
       "      <td>1205.00</td>\n",
       "      <td>1200.50</td>\n",
       "      <td>1209.50</td>\n",
       "      <td>1195.00</td>\n",
       "      <td>-0.0041</td>\n",
       "      <td>-0.004147657</td>\n",
       "      <td>N</td>\n",
       "      <td>1204.730769</td>\n",
       "      <td>...</td>\n",
       "      <td>N</td>\n",
       "      <td>N</td>\n",
       "      <td>N</td>\n",
       "      <td>NaN</td>\n",
       "      <td>NaN</td>\n",
       "      <td>NaN</td>\n",
       "      <td>NaN</td>\n",
       "      <td>NaN</td>\n",
       "      <td>NaN</td>\n",
       "      <td>NaN</td>\n",
       "    </tr>\n",
       "    <tr>\n",
       "      <td>2</td>\n",
       "      <td>1</td>\n",
       "      <td>20100422.0</td>\n",
       "      <td>1198.50</td>\n",
       "      <td>1201.75</td>\n",
       "      <td>1207.00</td>\n",
       "      <td>1186.25</td>\n",
       "      <td>0.0010</td>\n",
       "      <td>0.001041233</td>\n",
       "      <td>N</td>\n",
       "      <td>1204.272189</td>\n",
       "      <td>...</td>\n",
       "      <td>N</td>\n",
       "      <td>N</td>\n",
       "      <td>N</td>\n",
       "      <td>NaN</td>\n",
       "      <td>NaN</td>\n",
       "      <td>NaN</td>\n",
       "      <td>NaN</td>\n",
       "      <td>NaN</td>\n",
       "      <td>NaN</td>\n",
       "      <td>NaN</td>\n",
       "    </tr>\n",
       "    <tr>\n",
       "      <td>3</td>\n",
       "      <td>0</td>\n",
       "      <td>20100423.0</td>\n",
       "      <td>1201.25</td>\n",
       "      <td>1212.25</td>\n",
       "      <td>1213.75</td>\n",
       "      <td>1197.50</td>\n",
       "      <td>0.0087</td>\n",
       "      <td>0.008737258</td>\n",
       "      <td>N</td>\n",
       "      <td>1205.499545</td>\n",
       "      <td>...</td>\n",
       "      <td>N</td>\n",
       "      <td>N</td>\n",
       "      <td>N</td>\n",
       "      <td>NaN</td>\n",
       "      <td>NaN</td>\n",
       "      <td>NaN</td>\n",
       "      <td>NaN</td>\n",
       "      <td>NaN</td>\n",
       "      <td>NaN</td>\n",
       "      <td>NaN</td>\n",
       "    </tr>\n",
       "    <tr>\n",
       "      <td>4</td>\n",
       "      <td>0</td>\n",
       "      <td>20100426.0</td>\n",
       "      <td>1211.25</td>\n",
       "      <td>1208.25</td>\n",
       "      <td>1216.75</td>\n",
       "      <td>1207.50</td>\n",
       "      <td>-0.0033</td>\n",
       "      <td>-0.003299649</td>\n",
       "      <td>N</td>\n",
       "      <td>1205.922692</td>\n",
       "      <td>...</td>\n",
       "      <td>N</td>\n",
       "      <td>N</td>\n",
       "      <td>N</td>\n",
       "      <td>NaN</td>\n",
       "      <td>NaN</td>\n",
       "      <td>NaN</td>\n",
       "      <td>NaN</td>\n",
       "      <td>NaN</td>\n",
       "      <td>NaN</td>\n",
       "      <td>NaN</td>\n",
       "    </tr>\n",
       "    <tr>\n",
       "      <td>...</td>\n",
       "      <td>...</td>\n",
       "      <td>...</td>\n",
       "      <td>...</td>\n",
       "      <td>...</td>\n",
       "      <td>...</td>\n",
       "      <td>...</td>\n",
       "      <td>...</td>\n",
       "      <td>...</td>\n",
       "      <td>...</td>\n",
       "      <td>...</td>\n",
       "      <td>...</td>\n",
       "      <td>...</td>\n",
       "      <td>...</td>\n",
       "      <td>...</td>\n",
       "      <td>...</td>\n",
       "      <td>...</td>\n",
       "      <td>...</td>\n",
       "      <td>...</td>\n",
       "      <td>...</td>\n",
       "      <td>...</td>\n",
       "      <td>...</td>\n",
       "    </tr>\n",
       "    <tr>\n",
       "      <td>1718</td>\n",
       "      <td>NaN</td>\n",
       "      <td>NaN</td>\n",
       "      <td>NaN</td>\n",
       "      <td>NaN</td>\n",
       "      <td>NaN</td>\n",
       "      <td>NaN</td>\n",
       "      <td>NaN</td>\n",
       "      <td>NaN</td>\n",
       "      <td>NaN</td>\n",
       "      <td>NaN</td>\n",
       "      <td>...</td>\n",
       "      <td>NaN</td>\n",
       "      <td>NaN</td>\n",
       "      <td>NaN</td>\n",
       "      <td>NaN</td>\n",
       "      <td>NaN</td>\n",
       "      <td>NaN</td>\n",
       "      <td>NaN</td>\n",
       "      <td>NaN</td>\n",
       "      <td>NaN</td>\n",
       "      <td>NaN</td>\n",
       "    </tr>\n",
       "    <tr>\n",
       "      <td>1719</td>\n",
       "      <td>NaN</td>\n",
       "      <td>NaN</td>\n",
       "      <td>NaN</td>\n",
       "      <td>NaN</td>\n",
       "      <td>NaN</td>\n",
       "      <td>NaN</td>\n",
       "      <td>NaN</td>\n",
       "      <td>NaN</td>\n",
       "      <td>NaN</td>\n",
       "      <td>NaN</td>\n",
       "      <td>...</td>\n",
       "      <td>NaN</td>\n",
       "      <td>NaN</td>\n",
       "      <td>NaN</td>\n",
       "      <td>NaN</td>\n",
       "      <td>NaN</td>\n",
       "      <td>NaN</td>\n",
       "      <td>NaN</td>\n",
       "      <td>NaN</td>\n",
       "      <td>NaN</td>\n",
       "      <td>NaN</td>\n",
       "    </tr>\n",
       "    <tr>\n",
       "      <td>1720</td>\n",
       "      <td>NaN</td>\n",
       "      <td>NaN</td>\n",
       "      <td>NaN</td>\n",
       "      <td>NaN</td>\n",
       "      <td>NaN</td>\n",
       "      <td>NaN</td>\n",
       "      <td>NaN</td>\n",
       "      <td>NaN</td>\n",
       "      <td>NaN</td>\n",
       "      <td>NaN</td>\n",
       "      <td>...</td>\n",
       "      <td>NaN</td>\n",
       "      <td>NaN</td>\n",
       "      <td>NaN</td>\n",
       "      <td>NaN</td>\n",
       "      <td>NaN</td>\n",
       "      <td>NaN</td>\n",
       "      <td>NaN</td>\n",
       "      <td>NaN</td>\n",
       "      <td>NaN</td>\n",
       "      <td>NaN</td>\n",
       "    </tr>\n",
       "    <tr>\n",
       "      <td>1721</td>\n",
       "      <td>NaN</td>\n",
       "      <td>NaN</td>\n",
       "      <td>NaN</td>\n",
       "      <td>NaN</td>\n",
       "      <td>NaN</td>\n",
       "      <td>NaN</td>\n",
       "      <td>NaN</td>\n",
       "      <td>NaN</td>\n",
       "      <td>NaN</td>\n",
       "      <td>NaN</td>\n",
       "      <td>...</td>\n",
       "      <td>NaN</td>\n",
       "      <td>NaN</td>\n",
       "      <td>NaN</td>\n",
       "      <td>NaN</td>\n",
       "      <td>NaN</td>\n",
       "      <td>NaN</td>\n",
       "      <td>NaN</td>\n",
       "      <td>NaN</td>\n",
       "      <td>NaN</td>\n",
       "      <td>NaN</td>\n",
       "    </tr>\n",
       "    <tr>\n",
       "      <td>1722</td>\n",
       "      <td>NaN</td>\n",
       "      <td>NaN</td>\n",
       "      <td>NaN</td>\n",
       "      <td>NaN</td>\n",
       "      <td>NaN</td>\n",
       "      <td>NaN</td>\n",
       "      <td>NaN</td>\n",
       "      <td>NaN</td>\n",
       "      <td>NaN</td>\n",
       "      <td>NaN</td>\n",
       "      <td>...</td>\n",
       "      <td>NaN</td>\n",
       "      <td>NaN</td>\n",
       "      <td>NaN</td>\n",
       "      <td>NaN</td>\n",
       "      <td>NaN</td>\n",
       "      <td>NaN</td>\n",
       "      <td>NaN</td>\n",
       "      <td>NaN</td>\n",
       "      <td>NaN</td>\n",
       "      <td>NaN</td>\n",
       "    </tr>\n",
       "  </tbody>\n",
       "</table>\n",
       "<p>1723 rows × 35 columns</p>\n",
       "</div>"
      ],
      "text/plain": [
       "     Class        Date  Opening Price  Closing Price  Maximum  Minimum  \\\n",
       "0        0  20100420.0        1195.75        1205.50  1205.75  1194.00   \n",
       "1        0  20100421.0        1205.00        1200.50  1209.50  1195.00   \n",
       "2        1  20100422.0        1198.50        1201.75  1207.00  1186.25   \n",
       "3        0  20100423.0        1201.25        1212.25  1213.75  1197.50   \n",
       "4        0  20100426.0        1211.25        1208.25  1216.75  1207.50   \n",
       "...    ...         ...            ...            ...      ...      ...   \n",
       "1718   NaN         NaN            NaN            NaN      NaN      NaN   \n",
       "1719   NaN         NaN            NaN            NaN      NaN      NaN   \n",
       "1720   NaN         NaN            NaN            NaN      NaN      NaN   \n",
       "1721   NaN         NaN            NaN            NaN      NaN      NaN   \n",
       "1722   NaN         NaN            NaN            NaN      NaN      NaN   \n",
       "\n",
       "      Var. %        Return MOMENTUM5        EMA12  ...  CCI  ATR   UO  \\\n",
       "0     0.0084             N         N            N  ...    N    N    N   \n",
       "1    -0.0041  -0.004147657         N  1204.730769  ...    N    N    N   \n",
       "2     0.0010   0.001041233         N  1204.272189  ...    N    N    N   \n",
       "3     0.0087   0.008737258         N  1205.499545  ...    N    N    N   \n",
       "4    -0.0033  -0.003299649         N  1205.922692  ...    N    N    N   \n",
       "...      ...           ...       ...          ...  ...  ...  ...  ...   \n",
       "1718     NaN           NaN       NaN          NaN  ...  NaN  NaN  NaN   \n",
       "1719     NaN           NaN       NaN          NaN  ...  NaN  NaN  NaN   \n",
       "1720     NaN           NaN       NaN          NaN  ...  NaN  NaN  NaN   \n",
       "1721     NaN           NaN       NaN          NaN  ...  NaN  NaN  NaN   \n",
       "1722     NaN           NaN       NaN          NaN  ...  NaN  NaN  NaN   \n",
       "\n",
       "     Unnamed: 28 Unnamed: 29 Unnamed: 30 Unnamed: 31 Unnamed: 32 Unnamed: 33  \\\n",
       "0            NaN         NaN         NaN         NaN         NaN         NaN   \n",
       "1            NaN         NaN         NaN         NaN         NaN         NaN   \n",
       "2            NaN         NaN         NaN         NaN         NaN         NaN   \n",
       "3            NaN         NaN         NaN         NaN         NaN         NaN   \n",
       "4            NaN         NaN         NaN         NaN         NaN         NaN   \n",
       "...          ...         ...         ...         ...         ...         ...   \n",
       "1718         NaN         NaN         NaN         NaN         NaN         NaN   \n",
       "1719         NaN         NaN         NaN         NaN         NaN         NaN   \n",
       "1720         NaN         NaN         NaN         NaN         NaN         NaN   \n",
       "1721         NaN         NaN         NaN         NaN         NaN         NaN   \n",
       "1722         NaN         NaN         NaN         NaN         NaN         NaN   \n",
       "\n",
       "     Unnamed: 34  \n",
       "0            NaN  \n",
       "1            NaN  \n",
       "2            NaN  \n",
       "3            NaN  \n",
       "4            NaN  \n",
       "...          ...  \n",
       "1718         NaN  \n",
       "1719         NaN  \n",
       "1720         NaN  \n",
       "1721         NaN  \n",
       "1722         NaN  \n",
       "\n",
       "[1723 rows x 35 columns]"
      ]
     },
     "metadata": {},
     "output_type": "display_data"
    }
   ],
   "source": [
    "display(df_raw)"
   ]
  },
  {
   "cell_type": "markdown",
   "metadata": {},
   "source": [
    "#### Ажиглалт:\n",
    "1. Зарим мөрүүдэд NaN-ийг бүгдийг нь агуулдаг.\n",
    "2. Зарим баганад бүх NaN-ийг устгана.\n",
    "3. Зарим багана нь эхэнд 'N' тэмдэгтэй байна. Эдгээр нь техникийн үзүүлэлтүүд хараахан гараагүй байгаа тул ойлгомжтой болно. Жишээлбэл, MOMENTUM5-ийг 5 хоногийн өмнөх үнэ, одоогийн үнэд үндэслэн тооцдог. Тиймээс 6-ны өдрийг хүртэл тооцоологдохгүй. 'N' бүхий мөрүүдийг шинжилгээнээс хасах болно."
   ]
  },
  {
   "cell_type": "markdown",
   "metadata": {},
   "source": [
    "# CRISP-DM: Data бэлтгэл"
   ]
  },
  {
   "cell_type": "code",
   "execution_count": 4,
   "metadata": {},
   "outputs": [
    {
     "name": "stderr",
     "output_type": "stream",
     "text": [
      "/Users/hoshinorin/anaconda3/lib/python3.7/site-packages/pandas/core/ops/__init__.py:1115: FutureWarning: elementwise comparison failed; returning scalar instead, but in the future will perform elementwise comparison\n",
      "  result = method(y)\n"
     ]
    }
   ],
   "source": [
    "# null utga\n",
    "df_raw = df_raw.dropna(how='all', axis=1)\n",
    "\n",
    "# null utga\n",
    "df_raw = df_raw.dropna(how='all', axis=0)\n",
    "\n",
    "#  'N' values\n",
    "df_raw = df_raw.drop(df_raw[np.sum(df_raw == 'N', axis = 1) != 0].index)"
   ]
  },
  {
   "cell_type": "code",
   "execution_count": 5,
   "metadata": {},
   "outputs": [
    {
     "data": {
      "text/plain": [
       "Class                   0\n",
       "Date                    0\n",
       "Opening Price           0\n",
       "Closing Price           0\n",
       "Maximum                 0\n",
       "Minimum                 0\n",
       "Var. %                  0\n",
       "Return                  0\n",
       "MOMENTUM5               0\n",
       "EMA12                   0\n",
       "EMA26                   0\n",
       "MACD 12-26              0\n",
       "EMA9 of MACD12-26       0\n",
       "MACD 12-26-9            0\n",
       "ROI10                   0\n",
       "ROI20                   0\n",
       "ROI30                   0\n",
       "RSI 10                  0\n",
       "RSI 14                  0\n",
       "RSI 30                  0\n",
       "STOCHRSI10              0\n",
       "STOCHRSI14              0\n",
       "STOCHRSI30              0\n",
       "ADX                     0\n",
       "Williams%R              0\n",
       "CCI                     0\n",
       "ATR                     0\n",
       "UO                      0\n",
       "Unnamed: 30          1568\n",
       "Unnamed: 31          1568\n",
       "Unnamed: 32          1569\n",
       "dtype: int64"
      ]
     },
     "execution_count": 5,
     "metadata": {},
     "output_type": "execute_result"
    }
   ],
   "source": [
    "np.sum(df_raw.isnull())"
   ]
  },
  {
   "cell_type": "markdown",
   "metadata": {},
   "source": [
    "#### Дээрх 3 алхамыг хийсний дараа тэг биш тоо бүхий 3 багана байна. Тэдний нэр нь бүгд \"Нэргүй\" учраас хасагдах болно."
   ]
  },
  {
   "cell_type": "code",
   "execution_count": 6,
   "metadata": {},
   "outputs": [],
   "source": [
    "to_be_dropped = ['Unnamed: 30', 'Unnamed: 31', 'Unnamed: 32']\n",
    "df_raw = df_raw.drop(to_be_dropped, axis=1)"
   ]
  },
  {
   "cell_type": "code",
   "execution_count": 7,
   "metadata": {},
   "outputs": [
    {
     "name": "stdout",
     "output_type": "stream",
     "text": [
      "Number of missing values after processing is 0.\n",
      "The shape of cleaned data is (1570, 28)\n"
     ]
    },
    {
     "data": {
      "text/html": [
       "<div>\n",
       "<style scoped>\n",
       "    .dataframe tbody tr th:only-of-type {\n",
       "        vertical-align: middle;\n",
       "    }\n",
       "\n",
       "    .dataframe tbody tr th {\n",
       "        vertical-align: top;\n",
       "    }\n",
       "\n",
       "    .dataframe thead th {\n",
       "        text-align: right;\n",
       "    }\n",
       "</style>\n",
       "<table border=\"1\" class=\"dataframe\">\n",
       "  <thead>\n",
       "    <tr style=\"text-align: right;\">\n",
       "      <th></th>\n",
       "      <th>Class</th>\n",
       "      <th>Date</th>\n",
       "      <th>Opening Price</th>\n",
       "      <th>Closing Price</th>\n",
       "      <th>Maximum</th>\n",
       "      <th>Minimum</th>\n",
       "      <th>Var. %</th>\n",
       "      <th>Return</th>\n",
       "      <th>MOMENTUM5</th>\n",
       "      <th>EMA12</th>\n",
       "      <th>...</th>\n",
       "      <th>RSI 14</th>\n",
       "      <th>RSI 30</th>\n",
       "      <th>STOCHRSI10</th>\n",
       "      <th>STOCHRSI14</th>\n",
       "      <th>STOCHRSI30</th>\n",
       "      <th>ADX</th>\n",
       "      <th>Williams%R</th>\n",
       "      <th>CCI</th>\n",
       "      <th>ATR</th>\n",
       "      <th>UO</th>\n",
       "    </tr>\n",
       "  </thead>\n",
       "  <tbody>\n",
       "    <tr>\n",
       "      <td>29</td>\n",
       "      <td>1</td>\n",
       "      <td>20100601.0</td>\n",
       "      <td>1088.50</td>\n",
       "      <td>1069.50</td>\n",
       "      <td>1096.00</td>\n",
       "      <td>1068.50</td>\n",
       "      <td>-1.75</td>\n",
       "      <td>-0.017455</td>\n",
       "      <td>-1.50</td>\n",
       "      <td>1095.438631</td>\n",
       "      <td>...</td>\n",
       "      <td>50.124796</td>\n",
       "      <td>50.686311</td>\n",
       "      <td>0.456614</td>\n",
       "      <td>0.185332</td>\n",
       "      <td>0.0</td>\n",
       "      <td>60.075827</td>\n",
       "      <td>-76.268116</td>\n",
       "      <td>-80.659478</td>\n",
       "      <td>31.530495</td>\n",
       "      <td>51.559407</td>\n",
       "    </tr>\n",
       "    <tr>\n",
       "      <td>30</td>\n",
       "      <td>1</td>\n",
       "      <td>20100602.0</td>\n",
       "      <td>1069.25</td>\n",
       "      <td>1096.75</td>\n",
       "      <td>1098.25</td>\n",
       "      <td>1067.25</td>\n",
       "      <td>2.55</td>\n",
       "      <td>0.025479</td>\n",
       "      <td>23.75</td>\n",
       "      <td>1095.640380</td>\n",
       "      <td>...</td>\n",
       "      <td>49.709238</td>\n",
       "      <td>50.472996</td>\n",
       "      <td>0.583809</td>\n",
       "      <td>0.000000</td>\n",
       "      <td>0.0</td>\n",
       "      <td>60.024364</td>\n",
       "      <td>-56.521739</td>\n",
       "      <td>-54.973958</td>\n",
       "      <td>31.492602</td>\n",
       "      <td>53.150815</td>\n",
       "    </tr>\n",
       "    <tr>\n",
       "      <td>31</td>\n",
       "      <td>0</td>\n",
       "      <td>20100603.0</td>\n",
       "      <td>1097.00</td>\n",
       "      <td>1103.50</td>\n",
       "      <td>1105.25</td>\n",
       "      <td>1090.75</td>\n",
       "      <td>0.62</td>\n",
       "      <td>0.006155</td>\n",
       "      <td>42.25</td>\n",
       "      <td>1096.849552</td>\n",
       "      <td>...</td>\n",
       "      <td>49.916178</td>\n",
       "      <td>50.466666</td>\n",
       "      <td>0.724254</td>\n",
       "      <td>0.167157</td>\n",
       "      <td>0.0</td>\n",
       "      <td>60.500695</td>\n",
       "      <td>-45.621181</td>\n",
       "      <td>-21.091355</td>\n",
       "      <td>30.278845</td>\n",
       "      <td>56.758550</td>\n",
       "    </tr>\n",
       "    <tr>\n",
       "      <td>32</td>\n",
       "      <td>0</td>\n",
       "      <td>20100604.0</td>\n",
       "      <td>1104.00</td>\n",
       "      <td>1066.00</td>\n",
       "      <td>1107.75</td>\n",
       "      <td>1059.25</td>\n",
       "      <td>-3.40</td>\n",
       "      <td>-0.033983</td>\n",
       "      <td>-35.00</td>\n",
       "      <td>1092.103467</td>\n",
       "      <td>...</td>\n",
       "      <td>50.092403</td>\n",
       "      <td>50.435512</td>\n",
       "      <td>1.000000</td>\n",
       "      <td>0.309503</td>\n",
       "      <td>0.0</td>\n",
       "      <td>60.701730</td>\n",
       "      <td>-73.589165</td>\n",
       "      <td>-68.316641</td>\n",
       "      <td>31.580356</td>\n",
       "      <td>46.907870</td>\n",
       "    </tr>\n",
       "    <tr>\n",
       "      <td>33</td>\n",
       "      <td>1</td>\n",
       "      <td>20100607.0</td>\n",
       "      <td>1064.00</td>\n",
       "      <td>1048.00</td>\n",
       "      <td>1070.75</td>\n",
       "      <td>1047.00</td>\n",
       "      <td>-1.69</td>\n",
       "      <td>-0.016886</td>\n",
       "      <td>-40.50</td>\n",
       "      <td>1085.318318</td>\n",
       "      <td>...</td>\n",
       "      <td>50.314280</td>\n",
       "      <td>50.372969</td>\n",
       "      <td>1.000000</td>\n",
       "      <td>0.488725</td>\n",
       "      <td>0.0</td>\n",
       "      <td>60.888404</td>\n",
       "      <td>-89.841986</td>\n",
       "      <td>-107.953913</td>\n",
       "      <td>31.021045</td>\n",
       "      <td>46.893024</td>\n",
       "    </tr>\n",
       "  </tbody>\n",
       "</table>\n",
       "<p>5 rows × 28 columns</p>\n",
       "</div>"
      ],
      "text/plain": [
       "    Class        Date  Opening Price  Closing Price  Maximum  Minimum  Var. %  \\\n",
       "29      1  20100601.0        1088.50        1069.50  1096.00  1068.50   -1.75   \n",
       "30      1  20100602.0        1069.25        1096.75  1098.25  1067.25    2.55   \n",
       "31      0  20100603.0        1097.00        1103.50  1105.25  1090.75    0.62   \n",
       "32      0  20100604.0        1104.00        1066.00  1107.75  1059.25   -3.40   \n",
       "33      1  20100607.0        1064.00        1048.00  1070.75  1047.00   -1.69   \n",
       "\n",
       "      Return  MOMENTUM5        EMA12  ...     RSI 14     RSI 30  STOCHRSI10  \\\n",
       "29 -0.017455      -1.50  1095.438631  ...  50.124796  50.686311    0.456614   \n",
       "30  0.025479      23.75  1095.640380  ...  49.709238  50.472996    0.583809   \n",
       "31  0.006155      42.25  1096.849552  ...  49.916178  50.466666    0.724254   \n",
       "32 -0.033983     -35.00  1092.103467  ...  50.092403  50.435512    1.000000   \n",
       "33 -0.016886     -40.50  1085.318318  ...  50.314280  50.372969    1.000000   \n",
       "\n",
       "    STOCHRSI14  STOCHRSI30        ADX  Williams%R         CCI        ATR  \\\n",
       "29    0.185332         0.0  60.075827  -76.268116  -80.659478  31.530495   \n",
       "30    0.000000         0.0  60.024364  -56.521739  -54.973958  31.492602   \n",
       "31    0.167157         0.0  60.500695  -45.621181  -21.091355  30.278845   \n",
       "32    0.309503         0.0  60.701730  -73.589165  -68.316641  31.580356   \n",
       "33    0.488725         0.0  60.888404  -89.841986 -107.953913  31.021045   \n",
       "\n",
       "           UO  \n",
       "29  51.559407  \n",
       "30  53.150815  \n",
       "31  56.758550  \n",
       "32  46.907870  \n",
       "33  46.893024  \n",
       "\n",
       "[5 rows x 28 columns]"
      ]
     },
     "execution_count": 7,
     "metadata": {},
     "output_type": "execute_result"
    }
   ],
   "source": [
    "# Write a function to implement all data cleaning steps above\n",
    "def clean_data(df):\n",
    "    '''\n",
    "    INPUT:\n",
    "    df - raw data\n",
    "    \n",
    "    OUTPUT:\n",
    "    df - cleaned data\n",
    "    '''\n",
    "\n",
    "    # Remove columns with all null values\n",
    "    df = df.dropna(how='all', axis=1)\n",
    "    \n",
    "    # Remove rows with all null values\n",
    "    df = df.dropna(how='all', axis=0)\n",
    "\n",
    "    # Remove all rows with 'N' values\n",
    "    df = df.drop(df[np.sum(df == 'N', axis = 1) != 0].index)\n",
    "    \n",
    "    # Remove 'Unnamed' columns\n",
    "    to_be_dropped = ['Unnamed: 30', 'Unnamed: 31', 'Unnamed: 32']\n",
    "    df = df.drop(to_be_dropped, axis=1)\n",
    "    \n",
    "    # To ensure all data are numeric\n",
    "    df = df.apply(pd.to_numeric, errors='raise')\n",
    "    \n",
    "    after_processed = df.isnull().sum().sum()\n",
    "    print('Number of missing values after processing is {}.'.format(after_processed))\n",
    "            \n",
    "    return df\n",
    "\n",
    "df_raw = pd.read_csv('S&P500.csv', delimiter=';')\n",
    "df_clean = clean_data(df_raw)\n",
    "print('The shape of cleaned data is {}'.format(df_clean.shape))\n",
    "df_clean.head()"
   ]
  },
  {
   "cell_type": "markdown",
   "metadata": {},
   "source": [
    "### Баганы сонголт\n",
    "\n",
    "Бид маргааш нь үнэ өсөх эсвэл буурахыг урьдчилан таамаглахад аль үзүүлэлт нь ашигтай болохыг судлахыг хүсч байгаа тул (хэрэв боломжтой бол) дараах багануудыг буулгана."
   ]
  },
  {
   "cell_type": "code",
   "execution_count": 8,
   "metadata": {},
   "outputs": [
    {
     "name": "stdout",
     "output_type": "stream",
     "text": [
      "The shape of cleaned data is (1570, 22)\n"
     ]
    }
   ],
   "source": [
    "to_be_dropped = ['Date', 'Opening Price', 'Closing Price', 'Maximum', 'Minimum', 'Return']\n",
    "df_clean = df_clean.drop(to_be_dropped, axis=1)\n",
    "print('The shape of cleaned data is {}'.format(df_clean.shape))"
   ]
  },
  {
   "cell_type": "markdown",
   "metadata": {},
   "source": [
    "### Шалгуур үзүүлэлтүүдийн жагсаалт\n",
    "\n",
    "Энэ мөрдөн байцаалтанд ашигласан үзүүлэлт бүрийн утгыг доорхи линкээс авна уу.\n",
    "https://www.ncbi.nlm.nih.gov/pmc/articles/PMC5219605/"
   ]
  },
  {
   "cell_type": "code",
   "execution_count": 9,
   "metadata": {},
   "outputs": [
    {
     "name": "stdout",
     "output_type": "stream",
     "text": [
      "The list of indicators\n"
     ]
    },
    {
     "data": {
      "text/plain": [
       "['Var. %',\n",
       " 'MOMENTUM5',\n",
       " 'EMA12',\n",
       " 'EMA26',\n",
       " 'MACD 12-26',\n",
       " 'EMA9 of MACD12-26',\n",
       " 'MACD 12-26-9',\n",
       " 'ROI10',\n",
       " 'ROI20',\n",
       " 'ROI30',\n",
       " 'RSI 10',\n",
       " 'RSI 14',\n",
       " 'RSI 30',\n",
       " 'STOCHRSI10',\n",
       " 'STOCHRSI14',\n",
       " 'STOCHRSI30',\n",
       " 'ADX',\n",
       " 'Williams%R',\n",
       " 'CCI',\n",
       " 'ATR',\n",
       " 'UO']"
      ]
     },
     "execution_count": 9,
     "metadata": {},
     "output_type": "execute_result"
    }
   ],
   "source": [
    "print('The list of indicators')\n",
    "list(df_clean.columns[1:])"
   ]
  },
  {
   "cell_type": "markdown",
   "metadata": {},
   "source": [
    "# CRISP-DM: Өгөгдлийн загварчлал\n",
    "\n",
    "Маргааш үнийн өсөлтийг таамаглаж чадах уу?\n",
    "3 хандлагыг ашиглан нарийвчлалыг харьцуулъя\n",
    "1. SVM Classifier дээр үндэслэсэн хайлт\n",
    "2. PCA ашиглан SVM ангилагч\n",
    "3. Мэдрэлийн сүлжээ ангилагч"
   ]
  },
  {
   "cell_type": "code",
   "execution_count": 10,
   "metadata": {},
   "outputs": [],
   "source": [
    "y = df_clean.Class\n",
    "X = df_clean.drop('Class', axis=1)"
   ]
  },
  {
   "cell_type": "markdown",
   "metadata": {},
   "source": [
    "# SVM Classifier"
   ]
  },
  {
   "cell_type": "code",
   "execution_count": 11,
   "metadata": {},
   "outputs": [],
   "source": [
    "scaler = MinMaxScaler() # default=(0, 1)\n",
    "scaler.fit(X)\n",
    "scaled_X = scaler.transform(X)\n",
    "X_train, X_test, y_train, y_test = train_test_split(scaled_X, y, test_size=0.1, random_state=42)"
   ]
  },
  {
   "cell_type": "code",
   "execution_count": 12,
   "metadata": {},
   "outputs": [
    {
     "name": "stderr",
     "output_type": "stream",
     "text": [
      "/Users/hoshinorin/anaconda3/lib/python3.7/site-packages/sklearn/model_selection/_search.py:266: UserWarning: The total space of parameters 8 is smaller than n_iter=10. Running 8 iterations. For exhaustive searches, use GridSearchCV.\n",
      "  % (grid_size, self.n_iter, grid_size), UserWarning)\n"
     ]
    }
   ],
   "source": [
    "# build a classifier for support vector machines\n",
    "clf_svc = SVC()\n",
    "\n",
    "# Set up the hyperparameter search\n",
    "# look at setting up your search for C (recommend 0-10 range), \n",
    "# kernel, and degree\n",
    "# http://scikit-learn.org/stable/modules/generated/sklearn.svm.SVC.html\n",
    "param_dist = {\"C\": [0.1, 0.5, 1, 3],\n",
    "              \"kernel\": ['linear', 'rbf'],\n",
    "              \"gamma\": ['auto']\n",
    "             }\n",
    "\n",
    "# Run a randomized search over the hyperparameters\n",
    "svc_search = RandomizedSearchCV(clf_svc, cv=3, param_distributions=param_dist)\n",
    "\n",
    "# Fit the model on the training data\n",
    "svc_search.fit(X_train, y_train)\n",
    "\n",
    "# Make predictions on the test data\n",
    "svc_preds = svc_search.best_estimator_.predict(X_test)"
   ]
  },
  {
   "cell_type": "code",
   "execution_count": 13,
   "metadata": {},
   "outputs": [],
   "source": [
    "def print_metrics(y_true, preds, model_name=None):\n",
    "    '''\n",
    "    INPUT:\n",
    "    y_true - the y values that are actually true in the dataset (numpy array or pandas series)\n",
    "    preds - the predictions for those values from some model (numpy array or pandas series) \n",
    "    \n",
    "    OUTPUT:\n",
    "    None - prints the accuracy, precision, recall, and F1 score\n",
    "    '''\n",
    "    print('Accuracy score: ', format(accuracy_score(y_true, preds)))\n",
    "    print('Precision score: ', format(precision_score(y_true, preds)))\n",
    "    print('Recall score: ', format(recall_score(y_true, preds)))\n",
    "    print('F1 score: ', format(f1_score(y_true, preds)))"
   ]
  },
  {
   "cell_type": "code",
   "execution_count": 14,
   "metadata": {},
   "outputs": [
    {
     "name": "stdout",
     "output_type": "stream",
     "text": [
      "====Training Data====\n",
      "Accuracy score:  0.5640481245576787\n",
      "Precision score:  0.5684754521963824\n",
      "Recall score:  0.6094182825484764\n",
      "F1 score:  0.588235294117647\n"
     ]
    }
   ],
   "source": [
    "# Make predictions on the training data\n",
    "train_preds = svc_search.best_estimator_.predict(X_train)\n",
    "print('====Training Data====')\n",
    "print_metrics(y_train, train_preds)"
   ]
  },
  {
   "cell_type": "code",
   "execution_count": 15,
   "metadata": {},
   "outputs": [
    {
     "name": "stdout",
     "output_type": "stream",
     "text": [
      "====Testing Data====\n",
      "Accuracy score:  0.5031847133757962\n",
      "Precision score:  0.5172413793103449\n",
      "Recall score:  0.5555555555555556\n",
      "F1 score:  0.5357142857142857\n"
     ]
    }
   ],
   "source": [
    "print('====Testing Data====')\n",
    "print_metrics(y_test, svc_preds)"
   ]
  },
  {
   "cell_type": "markdown",
   "metadata": {},
   "source": [
    "# PCA задрал\n",
    "\n",
    "#### хэдэн бүрэлдэхүүн хэсэг шаардлагатай вэ?\n",
    "#### Хамгийн жинтэй үзүүлэлтүүд юу вэ?\n",
    "#### Мөн үүнээс илүү чухал зүйл бол таамаглалын нарийвчлал хэрхэн байгаа вэ?"
   ]
  },
  {
   "cell_type": "code",
   "execution_count": 16,
   "metadata": {},
   "outputs": [
    {
     "name": "stdout",
     "output_type": "stream",
     "text": [
      "(1570, 21)\n"
     ]
    },
    {
     "data": {
      "text/plain": [
       "PCA(copy=True, iterated_power='auto', n_components=None, random_state=None,\n",
       "    svd_solver='auto', tol=0.0, whiten=False)"
      ]
     },
     "execution_count": 16,
     "metadata": {},
     "output_type": "execute_result"
    }
   ],
   "source": [
    "# Apply PCA to the data.\n",
    "pca = PCA()\n",
    "Xpca = pca.fit_transform(X)\n",
    "print(Xpca.shape)\n",
    "pca"
   ]
  },
  {
   "cell_type": "code",
   "execution_count": 17,
   "metadata": {},
   "outputs": [
    {
     "data": {
      "text/plain": [
       "PCA(copy=True, iterated_power='auto', n_components=None, random_state=None,\n",
       "    svd_solver='auto', tol=0.0, whiten=False)"
      ]
     },
     "execution_count": 17,
     "metadata": {},
     "output_type": "execute_result"
    }
   ],
   "source": [
    "pca"
   ]
  },
  {
   "cell_type": "code",
   "execution_count": 18,
   "metadata": {},
   "outputs": [
    {
     "data": {
      "text/plain": [
       "(1570, 21)"
      ]
     },
     "execution_count": 18,
     "metadata": {},
     "output_type": "execute_result"
    }
   ],
   "source": [
    "Xpca.shape"
   ]
  },
  {
   "cell_type": "code",
   "execution_count": 19,
   "metadata": {},
   "outputs": [
    {
     "data": {
      "image/png": "[encoded data removed]",
      "text/plain": [
       "<Figure size 432x288 with 1 Axes>"
      ]
     },
     "metadata": {
      "needs_background": "light"
     },
     "output_type": "display_data"
    },
    {
     "data": {
      "image/png": "[encoded data removed]",
      "text/plain": [
       "<Figure size 432x288 with 1 Axes>"
      ]
     },
     "metadata": {
      "needs_background": "light"
     },
     "output_type": "display_data"
    }
   ],
   "source": [
    "# Investigate the variance accounted for by each principal component.\n",
    "\n",
    "plt.bar(range(len(pca.explained_variance_ratio_)), pca.explained_variance_ratio_)\n",
    "plt.title(\"Variance explained by each component\")\n",
    "plt.xlabel(\"Principal component\")\n",
    "plt.ylabel(\"Ratio of explained Variance\")\n",
    "plt.show()\n",
    "\n",
    "plt.plot(range(len(pca.explained_variance_ratio_)),np.cumsum(pca.explained_variance_ratio_))\n",
    "plt.title(\"Cumulative Variance\")\n",
    "plt.xlabel(\"Principal component\")\n",
    "plt.ylabel(\"Ratio of explained Variance\")\n",
    "plt.show()"
   ]
  },
  {
   "cell_type": "code",
   "execution_count": 20,
   "metadata": {},
   "outputs": [
    {
     "data": {
      "text/plain": [
       "array([0.94256736, 0.99539048, 0.99774414, 0.99879143, 0.99938069,\n",
       "       0.99972609, 0.99985486, 0.99995481, 0.99999614, 0.99999838,\n",
       "       0.99999915, 0.99999959, 0.99999985, 0.99999993, 0.99999997,\n",
       "       1.        , 1.        , 1.        , 1.        , 1.        ,\n",
       "       1.        ])"
      ]
     },
     "execution_count": 20,
     "metadata": {},
     "output_type": "execute_result"
    }
   ],
   "source": [
    "np.cumsum(pca.explained_variance_ratio_)"
   ]
  },
  {
   "cell_type": "markdown",
   "metadata": {},
   "source": [
    "#### Two components explain more than 99%!!!"
   ]
  },
  {
   "cell_type": "markdown",
   "metadata": {},
   "source": [
    "# Question 1: Important indicators for Day Trading\n",
    "#### Let's analyze the most weighted indicators for each component"
   ]
  },
  {
   "cell_type": "code",
   "execution_count": 21,
   "metadata": {},
   "outputs": [],
   "source": [
    "def pca_weights(pca, no_component, no_features):\n",
    "    '''\n",
    "    INPUT:\n",
    "    pca - the PCA\n",
    "    no_component - principal component number \n",
    "    no_features - number of features\n",
    "    \n",
    "    OUTPUT:\n",
    "    None - prints top 5 features and plot the features with their weights\n",
    "    '''\n",
    "    df = pd.DataFrame(pca.components_, columns=X.columns)\n",
    "    weights = abs(df.iloc[no_component-1]).sort_values(ascending=False)\n",
    "    features = weights.index[:no_features]\n",
    "    s = pd.Series(df.iloc[no_component-1][features].values, index=features)\n",
    "    s.plot(kind='barh',rot=0)\n",
    "    plt.title(\"Ranking of the Features\")\n",
    "    plt.xlabel(\"Weight\")\n",
    "    plt.ylabel(\"Features\")\n",
    "    print('Top {} features in principal component no {}'.format(no_features, no_component))\n",
    "    display(s)"
   ]
  },
  {
   "cell_type": "code",
   "execution_count": 22,
   "metadata": {},
   "outputs": [
    {
     "name": "stdout",
     "output_type": "stream",
     "text": [
      "Top 5 features in principal component no 1\n"
     ]
    },
    {
     "data": {
      "text/plain": [
       "EMA12   -0.707551\n",
       "EMA26   -0.706410\n",
       "CCI      0.018209\n",
       "ADX     -0.003016\n",
       "ATR     -0.002624\n",
       "dtype: float64"
      ]
     },
     "metadata": {},
     "output_type": "display_data"
    },
    {
     "data": {
      "image/png": "[encoded data removed]",
      "text/plain": [
       "<Figure size 432x288 with 1 Axes>"
      ]
     },
     "metadata": {
      "needs_background": "light"
     },
     "output_type": "display_data"
    }
   ],
   "source": [
    "pca_weights(pca, 1, 5)"
   ]
  },
  {
   "cell_type": "code",
   "execution_count": 23,
   "metadata": {},
   "outputs": [
    {
     "name": "stdout",
     "output_type": "stream",
     "text": [
      "Top 5 features in principal component no 2\n"
     ]
    },
    {
     "data": {
      "text/plain": [
       "CCI          -0.936850\n",
       "Williams%R   -0.243844\n",
       "MOMENTUM5    -0.215871\n",
       "UO           -0.073389\n",
       "MACD 12-26   -0.071729\n",
       "dtype: float64"
      ]
     },
     "metadata": {},
     "output_type": "display_data"
    },
    {
     "data": {
      "image/png": "[encoded data removed]",
      "text/plain": [
       "<Figure size 432x288 with 1 Axes>"
      ]
     },
     "metadata": {
      "needs_background": "light"
     },
     "output_type": "display_data"
    }
   ],
   "source": [
    "pca_weights(pca, 2, 5)"
   ]
  },
  {
   "cell_type": "markdown",
   "metadata": {},
   "source": [
    "#### Answer 1: As can be seen from plots above, EMA12, EMA26 and CCI are 3 most weighted indicators from PCA components 1 and 2 which explained more than 99% of original data."
   ]
  },
  {
   "cell_type": "markdown",
   "metadata": {},
   "source": [
    "#### What is the accuracy using PCA?\n",
    "Let's use the two components to train SVM classifier."
   ]
  },
  {
   "cell_type": "code",
   "execution_count": 24,
   "metadata": {},
   "outputs": [
    {
     "name": "stderr",
     "output_type": "stream",
     "text": [
      "/Users/hoshinorin/anaconda3/lib/python3.7/site-packages/sklearn/model_selection/_search.py:266: UserWarning: The total space of parameters 8 is smaller than n_iter=10. Running 8 iterations. For exhaustive searches, use GridSearchCV.\n",
      "  % (grid_size, self.n_iter, grid_size), UserWarning)\n"
     ]
    },
    {
     "name": "stdout",
     "output_type": "stream",
     "text": [
      "====Training Data====\n",
      "Accuracy score:  0.5477707006369427\n",
      "Precision score:  0.5586987270155587\n",
      "Recall score:  0.5470914127423823\n",
      "F1 score:  0.5528341497550734\n",
      "====Testing Data====\n",
      "Accuracy score:  0.5031847133757962\n",
      "Precision score:  0.5189873417721519\n",
      "Recall score:  0.5061728395061729\n",
      "F1 score:  0.5125\n"
     ]
    }
   ],
   "source": [
    "newX = Xpca[:,0:2]\n",
    "X_train, X_test, y_train, y_test = train_test_split(newX, y, test_size=0.1, random_state=42)\n",
    "\n",
    "# Fit the model on the training data\n",
    "svc_search.fit(X_train, y_train)\n",
    "\n",
    "# Make predictions on the test data\n",
    "svc_preds = svc_search.best_estimator_.predict(X_test)\n",
    "\n",
    "# Make predictions on the training data\n",
    "train_preds = svc_search.best_estimator_.predict(X_train)\n",
    "\n",
    "print('====Training Data====')\n",
    "print_metrics(y_train, train_preds)\n",
    "\n",
    "print('====Testing Data====')\n",
    "print_metrics(y_test, svc_preds)"
   ]
  },
  {
   "cell_type": "markdown",
   "metadata": {},
   "source": [
    "Хоёр бүрэлдэхүүн хэсэг нь 99% -иас илүү ялгаатай байгааг тайлбарлаж байсан ч гэсэн ийм нарийвчлал бага байна!"
   ]
  },
  {
   "cell_type": "markdown",
   "metadata": {},
   "source": [
    "# Асуулт 2: Урьдчилан таамаглахад үнэхээр хэцүү байна уу?\n",
    "\n",
    "PCA-ийн хоёр бүрэлдэхүүн хэсгийг төсөөлж үзье."
   ]
  },
  {
   "cell_type": "code",
   "execution_count": 25,
   "metadata": {},
   "outputs": [
    {
     "data": {
      "image/png": "[encoded data removed]",
      "text/plain": [
       "<Figure size 432x288 with 1 Axes>"
      ]
     },
     "metadata": {
      "needs_background": "light"
     },
     "output_type": "display_data"
    }
   ],
   "source": [
    "dfnewX = pd.DataFrame(newX)\n",
    "dfnewX.columns = 'x1', 'x2'\n",
    "dfnewX['y'] = y.values\n",
    "idx_1 = np.where(dfnewX.y == 1)\n",
    "idx_0 = np.where(dfnewX.y == 0)\n",
    "fig = plt.figure()\n",
    "ax1 = fig.add_subplot(111)\n",
    "ax1.scatter(dfnewX.iloc[idx_1].x1, dfnewX.iloc[idx_1].x2, s=10, c='b', marker=\"o\")\n",
    "ax1.scatter(dfnewX.iloc[idx_0].x1, dfnewX.iloc[idx_0].x2, s=10, c='r', marker=\"o\")\n",
    "plt.show()"
   ]
  },
  {
   "cell_type": "markdown",
   "metadata": {},
   "source": [
    "Дээрх хуйвалдаанаас харахад хоёр ангийн хооронд тодорхой салалт байхгүй байна!\n",
    "Тиймээс хоёртын ангиллын алгоритм нь хөрөнгийн зах зээлийн мэдээллийг ангилахад үр дүнтэй биш байж магадгүй юм."
   ]
  },
  {
   "cell_type": "markdown",
   "metadata": {},
   "source": [
    "# Neural Network Classifier"
   ]
  },
  {
   "cell_type": "code",
   "execution_count": 29,
   "metadata": {},
   "outputs": [
    {
     "name": "stdout",
     "output_type": "stream",
     "text": [
      "Collecting tensorflow\n",
      "\u001b[?25l  Downloading https://files.pythonhosted.org/packages/35/55/a0dbd642e68e68f3e309d1413abdc0a7aa7e1534c79c0fc2501defb864ac/tensorflow-2.1.0-cp37-cp37m-macosx_10_11_x86_64.whl (120.8MB)\n",
      "\u001b[K     |████████████████████████████████| 120.8MB 347kB/s eta 0:00:01    |██████████████████▋             | 70.1MB 1.8MB/s eta 0:00:29     |███████████████████████████████▍| 118.7MB 1.6MB/s eta 0:00:02\n",
      "\u001b[?25hRequirement already satisfied: six>=1.12.0 in /Users/hoshinorin/anaconda3/lib/python3.7/site-packages (from tensorflow) (1.12.0)\n",
      "Collecting astor>=0.6.0 (from tensorflow)\n",
      "  Downloading https://files.pythonhosted.org/packages/c3/88/97eef84f48fa04fbd6750e62dcceafba6c63c81b7ac1420856c8dcc0a3f9/astor-0.8.1-py2.py3-none-any.whl\n",
      "Requirement already satisfied: numpy<2.0,>=1.16.0 in /Users/hoshinorin/anaconda3/lib/python3.7/site-packages (from tensorflow) (1.17.2)\n",
      "Collecting google-pasta>=0.1.6 (from tensorflow)\n",
      "\u001b[?25l  Downloading https://files.pythonhosted.org/packages/c3/fd/1e86bc4837cc9a3a5faf3db9b1854aa04ad35b5f381f9648fbe81a6f94e4/google_pasta-0.1.8-py3-none-any.whl (57kB)\n",
      "\u001b[K     |████████████████████████████████| 61kB 9.4MB/s  eta 0:00:01\n",
      "\u001b[?25hRequirement already satisfied: keras-preprocessing>=1.1.0 in /Users/hoshinorin/anaconda3/lib/python3.7/site-packages (from tensorflow) (1.1.0)\n",
      "Collecting opt-einsum>=2.3.2 (from tensorflow)\n",
      "\u001b[?25l  Downloading https://files.pythonhosted.org/packages/b2/49/2233e63052d5686c72131b579837ddfb98ba9dd0b92bb91efcb441ada8ce/opt_einsum-3.2.0-py3-none-any.whl (63kB)\n",
      "\u001b[K     |████████████████████████████████| 71kB 9.9MB/s  eta 0:00:01\n",
      "\u001b[?25hRequirement already satisfied: wrapt>=1.11.1 in /Users/hoshinorin/anaconda3/lib/python3.7/site-packages (from tensorflow) (1.11.2)\n",
      "Collecting termcolor>=1.1.0 (from tensorflow)\n",
      "  Downloading https://files.pythonhosted.org/packages/8a/48/a76be51647d0eb9f10e2a4511bf3ffb8cc1e6b14e9e4fab46173aa79f981/termcolor-1.1.0.tar.gz\n",
      "Collecting absl-py>=0.7.0 (from tensorflow)\n",
      "\u001b[?25l  Downloading https://files.pythonhosted.org/packages/1a/53/9243c600e047bd4c3df9e69cfabc1e8004a82cac2e0c484580a78a94ba2a/absl-py-0.9.0.tar.gz (104kB)\n",
      "\u001b[K     |████████████████████████████████| 112kB 243kB/s eta 0:00:01\n",
      "\u001b[?25hCollecting gast==0.2.2 (from tensorflow)\n",
      "  Downloading https://files.pythonhosted.org/packages/4e/35/11749bf99b2d4e3cceb4d55ca22590b0d7c2c62b9de38ac4a4a7f4687421/gast-0.2.2.tar.gz\n",
      "Requirement already satisfied: wheel>=0.26; python_version >= \"3\" in /Users/hoshinorin/anaconda3/lib/python3.7/site-packages (from tensorflow) (0.33.6)\n",
      "Collecting protobuf>=3.8.0 (from tensorflow)\n",
      "\u001b[?25l  Downloading https://files.pythonhosted.org/packages/4c/25/c057a298635d08d087a20f51ff4287d821814208ebb045d84ea65535b3e3/protobuf-3.11.3-cp37-cp37m-macosx_10_9_x86_64.whl (1.3MB)\n",
      "\u001b[K     |████████████████████████████████| 1.3MB 1.6MB/s eta 0:00:01\n",
      "\u001b[?25hCollecting scipy==1.4.1; python_version >= \"3\" (from tensorflow)\n",
      "\u001b[?25l  Downloading https://files.pythonhosted.org/packages/85/7a/ae480be23b768910a9327c33517ced4623ba88dc035f9ce0206657c353a9/scipy-1.4.1-cp37-cp37m-macosx_10_6_intel.whl (28.4MB)\n",
      "\u001b[K     |████████████████████████████████| 28.4MB 1.7MB/s eta 0:00:01    |███████▋                        | 6.8MB 1.9MB/s eta 0:00:12\n",
      "\u001b[?25hCollecting tensorboard<2.2.0,>=2.1.0 (from tensorflow)\n",
      "\u001b[?25l  Downloading https://files.pythonhosted.org/packages/d9/41/bbf49b61370e4f4d245d4c6051dfb6db80cec672605c91b1652ac8cc3d38/tensorboard-2.1.1-py3-none-any.whl (3.8MB)\n",
      "\u001b[K     |████████████████████████████████| 3.9MB 1.9MB/s eta 0:00:01\n",
      "\u001b[?25hRequirement already satisfied: keras-applications>=1.0.8 in /Users/hoshinorin/anaconda3/lib/python3.7/site-packages (from tensorflow) (1.0.8)\n",
      "Collecting tensorflow-estimator<2.2.0,>=2.1.0rc0 (from tensorflow)\n",
      "\u001b[?25l  Downloading https://files.pythonhosted.org/packages/18/90/b77c328a1304437ab1310b463e533fa7689f4bfc41549593056d812fab8e/tensorflow_estimator-2.1.0-py2.py3-none-any.whl (448kB)\n",
      "\u001b[K     |████████████████████████████████| 450kB 872kB/s eta 0:00:01\n",
      "\u001b[?25hCollecting grpcio>=1.8.6 (from tensorflow)\n",
      "\u001b[?25l  Downloading https://files.pythonhosted.org/packages/35/f5/9dce584256802e9d26f51e689bf42b365442c6c52f1af8a44c86ad62359a/grpcio-1.27.2-cp37-cp37m-macosx_10_9_x86_64.whl (2.5MB)\n",
      "\u001b[K     |████████████████████████████████| 2.5MB 2.0MB/s eta 0:00:01\n",
      "\u001b[?25hRequirement already satisfied: setuptools in /Users/hoshinorin/anaconda3/lib/python3.7/site-packages (from protobuf>=3.8.0->tensorflow) (41.4.0)\n",
      "Collecting google-auth<2,>=1.6.3 (from tensorboard<2.2.0,>=2.1.0->tensorflow)\n",
      "\u001b[?25l  Downloading https://files.pythonhosted.org/packages/5a/8d/e2ebbd0502627ed0d8a408162020e1c0792f088b49fddeedaaeebc206ed7/google_auth-1.11.2-py2.py3-none-any.whl (76kB)\n",
      "\u001b[K     |████████████████████████████████| 81kB 8.5MB/s eta 0:00:01\n",
      "\u001b[?25hCollecting markdown>=2.6.8 (from tensorboard<2.2.0,>=2.1.0->tensorflow)\n",
      "\u001b[?25l  Downloading https://files.pythonhosted.org/packages/ab/c4/ba46d44855e6eb1770a12edace5a165a0c6de13349f592b9036257f3c3d3/Markdown-3.2.1-py2.py3-none-any.whl (88kB)\n",
      "\u001b[K     |████████████████████████████████| 92kB 8.0MB/s eta 0:00:011\n",
      "\u001b[?25hRequirement already satisfied: werkzeug>=0.11.15 in /Users/hoshinorin/anaconda3/lib/python3.7/site-packages (from tensorboard<2.2.0,>=2.1.0->tensorflow) (0.16.0)\n",
      "Collecting google-auth-oauthlib<0.5,>=0.4.1 (from tensorboard<2.2.0,>=2.1.0->tensorflow)\n",
      "  Downloading https://files.pythonhosted.org/packages/7b/b8/88def36e74bee9fce511c9519571f4e485e890093ab7442284f4ffaef60b/google_auth_oauthlib-0.4.1-py2.py3-none-any.whl\n",
      "Requirement already satisfied: requests<3,>=2.21.0 in /Users/hoshinorin/anaconda3/lib/python3.7/site-packages (from tensorboard<2.2.0,>=2.1.0->tensorflow) (2.22.0)\n",
      "Requirement already satisfied: h5py in /Users/hoshinorin/anaconda3/lib/python3.7/site-packages (from keras-applications>=1.0.8->tensorflow) (2.9.0)\n",
      "Collecting rsa<4.1,>=3.1.4 (from google-auth<2,>=1.6.3->tensorboard<2.2.0,>=2.1.0->tensorflow)\n",
      "  Downloading https://files.pythonhosted.org/packages/02/e5/38518af393f7c214357079ce67a317307936896e961e35450b70fad2a9cf/rsa-4.0-py2.py3-none-any.whl\n",
      "Collecting cachetools<5.0,>=2.0.0 (from google-auth<2,>=1.6.3->tensorboard<2.2.0,>=2.1.0->tensorflow)\n",
      "  Downloading https://files.pythonhosted.org/packages/08/6a/abf83cb951617793fd49c98cb9456860f5df66ff89883c8660aa0672d425/cachetools-4.0.0-py3-none-any.whl\n",
      "Collecting pyasn1-modules>=0.2.1 (from google-auth<2,>=1.6.3->tensorboard<2.2.0,>=2.1.0->tensorflow)\n",
      "\u001b[?25l  Downloading https://files.pythonhosted.org/packages/95/de/214830a981892a3e286c3794f41ae67a4495df1108c3da8a9f62159b9a9d/pyasn1_modules-0.2.8-py2.py3-none-any.whl (155kB)\n",
      "\u001b[K     |████████████████████████████████| 163kB 875kB/s eta 0:00:01\n",
      "\u001b[?25hCollecting requests-oauthlib>=0.7.0 (from google-auth-oauthlib<0.5,>=0.4.1->tensorboard<2.2.0,>=2.1.0->tensorflow)\n",
      "  Downloading https://files.pythonhosted.org/packages/a3/12/b92740d845ab62ea4edf04d2f4164d82532b5a0b03836d4d4e71c6f3d379/requests_oauthlib-1.3.0-py2.py3-none-any.whl\n",
      "Requirement already satisfied: chardet<3.1.0,>=3.0.2 in /Users/hoshinorin/anaconda3/lib/python3.7/site-packages (from requests<3,>=2.21.0->tensorboard<2.2.0,>=2.1.0->tensorflow) (3.0.4)\n",
      "Requirement already satisfied: certifi>=2017.4.17 in /Users/hoshinorin/anaconda3/lib/python3.7/site-packages (from requests<3,>=2.21.0->tensorboard<2.2.0,>=2.1.0->tensorflow) (2019.9.11)\n",
      "Requirement already satisfied: idna<2.9,>=2.5 in /Users/hoshinorin/anaconda3/lib/python3.7/site-packages (from requests<3,>=2.21.0->tensorboard<2.2.0,>=2.1.0->tensorflow) (2.8)\n",
      "Requirement already satisfied: urllib3!=1.25.0,!=1.25.1,<1.26,>=1.21.1 in /Users/hoshinorin/anaconda3/lib/python3.7/site-packages (from requests<3,>=2.21.0->tensorboard<2.2.0,>=2.1.0->tensorflow) (1.24.2)\n",
      "Collecting pyasn1>=0.1.3 (from rsa<4.1,>=3.1.4->google-auth<2,>=1.6.3->tensorboard<2.2.0,>=2.1.0->tensorflow)\n",
      "\u001b[?25l  Downloading https://files.pythonhosted.org/packages/62/1e/a94a8d635fa3ce4cfc7f506003548d0a2447ae76fd5ca53932970fe3053f/pyasn1-0.4.8-py2.py3-none-any.whl (77kB)\n",
      "\u001b[K     |████████████████████████████████| 81kB 6.7MB/s eta 0:00:01\n",
      "\u001b[?25hCollecting oauthlib>=3.0.0 (from requests-oauthlib>=0.7.0->google-auth-oauthlib<0.5,>=0.4.1->tensorboard<2.2.0,>=2.1.0->tensorflow)\n",
      "\u001b[?25l  Downloading https://files.pythonhosted.org/packages/05/57/ce2e7a8fa7c0afb54a0581b14a65b56e62b5759dbc98e80627142b8a3704/oauthlib-3.1.0-py2.py3-none-any.whl (147kB)\n"
     ]
    },
    {
     "name": "stdout",
     "output_type": "stream",
     "text": [
      "\u001b[K     |████████████████████████████████| 153kB 1.4MB/s eta 0:00:01\n",
      "\u001b[?25hBuilding wheels for collected packages: termcolor, absl-py, gast\n",
      "  Building wheel for termcolor (setup.py) ... \u001b[?25ldone\n",
      "\u001b[?25h  Created wheel for termcolor: filename=termcolor-1.1.0-cp37-none-any.whl size=4832 sha256=f1a7993ba3f15d3360c433042546fc6d850e15c29d854bee5b4bdb6f08afd801\n",
      "  Stored in directory: /Users/hoshinorin/Library/Caches/pip/wheels/7c/06/54/bc84598ba1daf8f970247f550b175aaaee85f68b4b0c5ab2c6\n",
      "  Building wheel for absl-py (setup.py) ... \u001b[?25ldone\n",
      "\u001b[?25h  Created wheel for absl-py: filename=absl_py-0.9.0-cp37-none-any.whl size=121932 sha256=fb20b55161d50bc29640b35548e09b66a599bc08192de11bc5b04bb18c0e90fd\n",
      "  Stored in directory: /Users/hoshinorin/Library/Caches/pip/wheels/8e/28/49/fad4e7f0b9a1227708cbbee4487ac8558a7334849cb81c813d\n",
      "  Building wheel for gast (setup.py) ... \u001b[?25ldone\n",
      "\u001b[?25h  Created wheel for gast: filename=gast-0.2.2-cp37-none-any.whl size=7540 sha256=e466358e8295c1dbd8891cad8ad824db6e1584f901126ac8924565167b3174e0\n",
      "  Stored in directory: /Users/hoshinorin/Library/Caches/pip/wheels/5c/2e/7e/a1d4d4fcebe6c381f378ce7743a3ced3699feb89bcfbdadadd\n",
      "Successfully built termcolor absl-py gast\n",
      "Installing collected packages: astor, google-pasta, opt-einsum, termcolor, absl-py, gast, protobuf, scipy, pyasn1, rsa, cachetools, pyasn1-modules, google-auth, markdown, oauthlib, requests-oauthlib, google-auth-oauthlib, grpcio, tensorboard, tensorflow-estimator, tensorflow\n",
      "  Found existing installation: scipy 1.3.1\n",
      "    Uninstalling scipy-1.3.1:\n",
      "      Successfully uninstalled scipy-1.3.1\n",
      "Successfully installed absl-py-0.9.0 astor-0.8.1 cachetools-4.0.0 gast-0.2.2 google-auth-1.11.2 google-auth-oauthlib-0.4.1 google-pasta-0.1.8 grpcio-1.27.2 markdown-3.2.1 oauthlib-3.1.0 opt-einsum-3.2.0 protobuf-3.11.3 pyasn1-0.4.8 pyasn1-modules-0.2.8 requests-oauthlib-1.3.0 rsa-4.0 scipy-1.4.1 tensorboard-2.1.1 tensorflow-2.1.0 tensorflow-estimator-2.1.0 termcolor-1.1.0\n",
      "Note: you may need to restart the kernel to use updated packages.\n"
     ]
    }
   ],
   "source": [
    "pip install tensorflow\n"
   ]
  },
  {
   "cell_type": "code",
   "execution_count": 30,
   "metadata": {},
   "outputs": [
    {
     "name": "stderr",
     "output_type": "stream",
     "text": [
      "Using TensorFlow backend.\n"
     ]
    }
   ],
   "source": [
    "import keras\n",
    "from keras.models import Sequential\n",
    "from keras.layers import Dense, Dropout, Activation"
   ]
  },
  {
   "cell_type": "code",
   "execution_count": 31,
   "metadata": {},
   "outputs": [
    {
     "name": "stdout",
     "output_type": "stream",
     "text": [
      "(1413, 2)\n",
      "(157, 2)\n"
     ]
    }
   ],
   "source": [
    "num_classes = 2\n",
    "y_train = keras.utils.to_categorical(y_train, num_classes)\n",
    "y_test = keras.utils.to_categorical(y_test, num_classes)\n",
    "print(y_train.shape)\n",
    "print(y_test.shape)"
   ]
  },
  {
   "cell_type": "code",
   "execution_count": 32,
   "metadata": {},
   "outputs": [
    {
     "name": "stdout",
     "output_type": "stream",
     "text": [
      "Model: \"sequential_1\"\n",
      "_________________________________________________________________\n",
      "Layer (type)                 Output Shape              Param #   \n",
      "=================================================================\n",
      "dense_1 (Dense)              (None, 4096)              12288     \n",
      "_________________________________________________________________\n",
      "dropout_1 (Dropout)          (None, 4096)              0         \n",
      "_________________________________________________________________\n",
      "dense_2 (Dense)              (None, 4096)              16781312  \n",
      "_________________________________________________________________\n",
      "dropout_2 (Dropout)          (None, 4096)              0         \n",
      "_________________________________________________________________\n",
      "dense_3 (Dense)              (None, 1024)              4195328   \n",
      "_________________________________________________________________\n",
      "dropout_3 (Dropout)          (None, 1024)              0         \n",
      "_________________________________________________________________\n",
      "dense_4 (Dense)              (None, 256)               262400    \n",
      "_________________________________________________________________\n",
      "dropout_4 (Dropout)          (None, 256)               0         \n",
      "_________________________________________________________________\n",
      "dense_5 (Dense)              (None, 128)               32896     \n",
      "_________________________________________________________________\n",
      "dropout_5 (Dropout)          (None, 128)               0         \n",
      "_________________________________________________________________\n",
      "dense_6 (Dense)              (None, 2)                 258       \n",
      "=================================================================\n",
      "Total params: 21,284,482\n",
      "Trainable params: 21,284,482\n",
      "Non-trainable params: 0\n",
      "_________________________________________________________________\n"
     ]
    }
   ],
   "source": [
    "# TODO: Build the model architecture\n",
    "model = Sequential()\n",
    "model.add(Dense(4096, activation='relu', input_dim=2))\n",
    "model.add(Dropout(0.1))\n",
    "model.add(Dense(4096, activation='relu'))\n",
    "model.add(Dropout(0.1))\n",
    "model.add(Dense(1024, activation='relu'))\n",
    "model.add(Dropout(0.1))\n",
    "model.add(Dense(256, activation='relu'))\n",
    "model.add(Dropout(0.1))\n",
    "model.add(Dense(128, activation='relu'))\n",
    "model.add(Dropout(0.1))\n",
    "model.add(Dense(num_classes, activation='softmax'))\n",
    "model.summary()\n",
    "\n",
    "# TODO: Compile the model using a loss function and an optimizer.\n",
    "model.compile(loss='categorical_crossentropy', optimizer='adam', metrics=['accuracy'])"
   ]
  },
  {
   "cell_type": "code",
   "execution_count": 33,
   "metadata": {},
   "outputs": [
    {
     "name": "stdout",
     "output_type": "stream",
     "text": [
      "Train on 1413 samples, validate on 157 samples\n",
      "Epoch 1/10\n",
      " - 17s - loss: 7.3548 - accuracy: 0.4827 - val_loss: 0.8273 - val_accuracy: 0.5159\n",
      "Epoch 2/10\n",
      " - 16s - loss: 0.7774 - accuracy: 0.4982 - val_loss: 0.7094 - val_accuracy: 0.5096\n",
      "Epoch 3/10\n",
      " - 16s - loss: 0.7176 - accuracy: 0.5364 - val_loss: 0.7026 - val_accuracy: 0.4395\n",
      "Epoch 4/10\n",
      " - 20s - loss: 0.7066 - accuracy: 0.5357 - val_loss: 0.7044 - val_accuracy: 0.4140\n",
      "Epoch 5/10\n",
      " - 20s - loss: 0.7076 - accuracy: 0.5287 - val_loss: 0.6985 - val_accuracy: 0.5096\n",
      "Epoch 6/10\n",
      " - 19s - loss: 0.6978 - accuracy: 0.5301 - val_loss: 0.7049 - val_accuracy: 0.5223\n",
      "Epoch 7/10\n",
      " - 19s - loss: 0.6974 - accuracy: 0.5435 - val_loss: 0.7005 - val_accuracy: 0.4968\n",
      "Epoch 8/10\n",
      " - 19s - loss: 0.7037 - accuracy: 0.5159 - val_loss: 0.7221 - val_accuracy: 0.5159\n",
      "Epoch 9/10\n",
      " - 19s - loss: 0.6996 - accuracy: 0.5195 - val_loss: 0.7361 - val_accuracy: 0.4968\n",
      "Epoch 10/10\n",
      " - 20s - loss: 0.6904 - accuracy: 0.5563 - val_loss: 0.7001 - val_accuracy: 0.5223\n"
     ]
    },
    {
     "data": {
      "text/plain": [
       "<keras.callbacks.callbacks.History at 0x1a4cf8a250>"
      ]
     },
     "execution_count": 33,
     "metadata": {},
     "output_type": "execute_result"
    }
   ],
   "source": [
    "# TODO: Run the model. Feel free to experiment with different batch sizes and number of epochs.\n",
    "model.fit(X_train, y_train,\n",
    "          batch_size=20,\n",
    "          epochs=10,\n",
    "          validation_data=(X_test, y_test), \n",
    "          verbose=2)"
   ]
  },
  {
   "cell_type": "code",
   "execution_count": 34,
   "metadata": {},
   "outputs": [
    {
     "name": "stdout",
     "output_type": "stream",
     "text": [
      "Accuracy:  0.522292971611023\n"
     ]
    }
   ],
   "source": [
    "score = model.evaluate(X_test, y_test, verbose=0)\n",
    "print(\"Accuracy: \", score[1])"
   ]
  },
  {
   "cell_type": "markdown",
   "metadata": {},
   "source": [
    "# Асуулт 3: Урьдчилан таамаглалын нарийвчлал\n",
    "\n",
    "Загвар | Сургалтын нарийвчлал | Нарийвчлалыг туршиж үзэх\n",
    "--- | --- | ---\n",
    "SVM | 56% | 50%\n",
    "SVM with PCA | 55% | 50%\n",
    "Neural Network | 51% | 52% "
   ]
  },
  {
   "cell_type": "markdown",
   "metadata": {},
   "source": [
    "# Дүгнэлт\n",
    "\n",
    "Энэхүү мөрдөн байцаалтанд ашигласан өгөгдлүүд дээр үндэслэн техникийн үзүүлэлтүүд дээр үндэслэн үнийн хөдөлгөөнийг урьдчилан таамаглахад үнэхээр хэцүү байдаг."
   ]
  },
  {
   "cell_type": "code",
   "execution_count": null,
   "metadata": {},
   "outputs": [],
   "source": []
  }
 ],
 "metadata": {
  "kernelspec": {
   "display_name": "Python 3",
   "language": "python",
   "name": "python3"
  },
  "language_info": {
   "codemirror_mode": {
    "name": "ipython",
    "version": 3
   },
   "file_extension": ".py",
   "mimetype": "text/x-python",
   "name": "python",
   "nbconvert_exporter": "python",
   "pygments_lexer": "ipython3",
   "version": "3.7.4"
  }
 },
 "nbformat": 4,
 "nbformat_minor": 2
}
